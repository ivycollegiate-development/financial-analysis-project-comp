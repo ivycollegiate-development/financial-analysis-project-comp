{
 "cells": [
  {
   "cell_type": "code",
   "execution_count": null,
   "id": "6c602546",
   "metadata": {},
   "outputs": [],
   "source": [
    "import pandas as pd\n",
    "import yfinance as yf\n",
    "import matplotlib.pyplot as plt\n",
    "import seaborn as sns\n",
    "from forex_python.converter import CurrencyRates\n",
    "from datetime import datetime"
   ]
  },
  {
   "cell_type": "code",
   "execution_count": null,
   "id": "5c225374",
   "metadata": {},
   "outputs": [],
   "source": [
    "print(\"Welcome to the Financial Instrument Visual Evaluator.\")\n",
    "print(\"You’ll be prompted to enter tickers, instrument types, sectors, and other data.\")\n",
    "print(\"We'll collect price and fundamental data and generate charts for evaluation.\")"
   ]
  },
  {
   "cell_type": "code",
   "execution_count": null,
   "id": "b78859da",
   "metadata": {},
   "outputs": [],
   "source": [
    "instruments = []\n",
    "\n",
    "while True:\n",
    "    ticker = input(\"Enter ticker symbol (or type 'done' to finish): \").strip()\n",
    "    if ticker.lower() == 'done':\n",
    "        break\n",
    "    instrument_type = input(\"Instrument Type (Stock, ETF, Bond, etc.): \").strip()\n",
    "    sector = input(\"Sector (e.g., Technology, Healthcare): \").strip()\n",
    "    region = input(\"Region (US, Europe, Asia-Pacific, etc.): \").strip()\n",
    "    allocation = float(input(\"Allocation percentage (0-100): \").strip())\n",
    "    currency = input(\"Currency (USD or TWD): \").strip().upper()\n",
    "\n",
    "    instruments.append({\n",
    "        \"Ticker\": ticker,\n",
    "        \"Instrument Type\": instrument_type,\n",
    "        \"Sector\": sector,\n",
    "        \"Region\": region,\n",
    "        \"Allocation (%)\": allocation,\n",
    "        \"Currency\": currency,\n",
    "        \"Conversion Rate (to TWD)\": None\n",
    "    })\n",
    "\n",
    "df = pd.DataFrame(instruments)\n"
   ]
  },
  {
   "cell_type": "code",
   "execution_count": null,
   "id": "15ab3719",
   "metadata": {},
   "outputs": [],
   "source": [
    "c = CurrencyRates()\n",
    "try:\n",
    "    usd_to_twd = c.get_rate('USD', 'TWD')\n",
    "    df.loc[df['Currency'] == 'USD', 'Conversion Rate (to TWD)'] = usd_to_twd\n",
    "    df.loc[df['Currency'] == 'TWD', 'Conversion Rate (to TWD)'] = 1.0\n",
    "    print(f\"USD to TWD rate: {usd_to_twd}\")\n",
    "except Exception as e:\n",
    "    print(f\"Currency conversion failed: {e}\")\n",
    "    df['Conversion Rate (to TWD)'] = 1.0  # fallback\n"
   ]
  },
  {
   "cell_type": "code",
   "execution_count": null,
   "id": "10eb4c12",
   "metadata": {},
   "outputs": [],
   "source": [
    "price_data = {}\n",
    "for ticker in df['Ticker']:\n",
    "    try:\n",
    "        stock = yf.Ticker(ticker)\n",
    "        hist_daily = stock.history(period=\"1y\", interval=\"1d\")\n",
    "        hist_weekly = stock.history(period=\"5y\", interval=\"1wk\")\n",
    "        price_data[ticker] = {\"1y_daily\": hist_daily, \"5y_weekly\": hist_weekly}\n",
    "        print(f\"Downloaded data for {ticker}\")\n",
    "    except Exception as e:\n",
    "        print(f\"Failed to fetch data for {ticker}: {e}\")\n"
   ]
  },
  {
   "cell_type": "code",
   "execution_count": null,
   "id": "ba7215bc",
   "metadata": {},
   "outputs": [],
   "source": [
    "example_ticker = df['Ticker'].iloc[0]\n",
    "data = price_data[example_ticker]['1y_daily']\n",
    "\n",
    "data['MA50'] = data['Close'].rolling(window=50).mean()\n",
    "data['MA200'] = data['Close'].rolling(window=200).mean()\n",
    "\n",
    "plt.figure(figsize=(12, 6))\n",
    "plt.plot(data['Close'], label='Close Price')\n",
    "plt.plot(data['MA50'], label='50-day MA')\n",
    "plt.plot(data['MA200'], label='200-day MA')\n",
    "plt.title(f\"{example_ticker} - 1Y Daily Price with Moving Averages\")\n",
    "plt.xlabel(\"Date\")\n",
    "plt.ylabel(\"Price (USD)\")\n",
    "plt.legend()\n",
    "plt.grid(True)\n",
    "plt.tight_layout()\n",
    "plt.show()\n"
   ]
  }
 ],
 "metadata": {
  "language_info": {
   "name": "python"
  }
 },
 "nbformat": 4,
 "nbformat_minor": 5
}
