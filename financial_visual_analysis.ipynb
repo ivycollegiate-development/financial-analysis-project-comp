{
 "cells": [
  {
   "cell_type": "code",
   "execution_count": 19,
   "id": "3b0e2de7",
   "metadata": {},
   "outputs": [],
   "source": [
    "import pandas as pd\n",
    "import yfinance as yf\n",
    "import matplotlib.pyplot as plt\n",
    "import seaborn as sns\n",
    "import os\n",
    "from forex_python.converter import CurrencyRates\n",
    "from datetime import datetime"
   ]
  },
  {
   "cell_type": "code",
   "execution_count": 20,
   "id": "7c17c857",
   "metadata": {},
   "outputs": [
    {
     "name": "stdout",
     "output_type": "stream",
     "text": [
      "Welcome to the Financial Instrument Visual Evaluator.\n",
      "You’ll be prompted to enter tickers, instrument types, sectors, and other data.\n",
      "We'll collect price and fundamental data and generate charts for evaluation.\n"
     ]
    }
   ],
   "source": [
    "print(\"Welcome to the Financial Instrument Visual Evaluator.\")\n",
    "print(\"You’ll be prompted to enter tickers, instrument types, sectors, and other data.\")\n",
    "print(\"We'll collect price and fundamental data and generate charts for evaluation.\")"
   ]
  },
  {
   "cell_type": "code",
   "execution_count": 21,
   "id": "c3c35ccd",
   "metadata": {},
   "outputs": [
    {
     "name": "stdout",
     "output_type": "stream",
     "text": [
      "Successfully loaded 8 instruments from Instrument_Allocation_Template.csv\n"
     ]
    }
   ],
   "source": [
    "input_method = input(\"Select input method (1 for CSV, 2 for manual entry): \").strip()\n",
    "\n",
    "df = pd.DataFrame(columns=[\"Ticker\", \"Instrument Type\", \"Sector\", \"Region\", \n",
    "                          \"Allocation (%)\", \"Currency\", \"Conversion Rate (to TWD)\"])\n",
    "\n",
    "# Option 1: Load from CSV\n",
    "if input_method == \"1\":\n",
    "    csv_file = input(\"Enter CSV filename (default: Instrument_Allocation_Template.csv): \").strip()\n",
    "    if not csv_file:\n",
    "        csv_file = \"Instrument_Allocation_Template.csv\"\n",
    "    \n",
    "    # Check if the CSV file exists\n",
    "    if not os.path.isfile(csv_file):\n",
    "        print(f\"Error: The file '{csv_file}' does not exist.\")\n",
    "        print(\"Please create this file with the following columns:\")\n",
    "        print(\"Ticker, Instrument Type, Sector, Region, Allocation (%), Currency, Conversion Rate (to TWD)\")\n",
    "        print(\"Example:\")\n",
    "        print(\"AAPL,Stock,Technology,US,20,USD,\")\n",
    "        print(\"2330.TW,Stock,Technology,Taiwan,30,TWD,\")\n",
    "    else:\n",
    "        try:\n",
    "            # Read the CSV file\n",
    "            df = pd.read_csv(csv_file)\n",
    "            print(f\"Successfully loaded {len(df)} instruments from {csv_file}\")\n",
    "            \n",
    "            # Validate required columns\n",
    "            required_columns = [\"Ticker\", \"Instrument Type\", \"Sector\", \"Region\", \n",
    "                               \"Allocation (%)\", \"Currency\"]\n",
    "            missing_columns = [col for col in required_columns if col not in df.columns]\n",
    "            \n",
    "            if missing_columns:\n",
    "                print(f\"Warning: The following required columns are missing: {missing_columns}\")\n",
    "                print(\"Please update your CSV file with the correct column headers.\")\n",
    "        except Exception as e:\n",
    "            print(f\"Error loading CSV file: {e}\")\n",
    "\n",
    "# Option 2: Manual Entry\n",
    "elif input_method == \"2\":\n",
    "    instruments = []\n",
    "    print(\"\\nEnter information for each instrument:\")\n",
    "    print(\"(Enter 'done' for ticker when finished)\")\n",
    "    \n",
    "    while True:\n",
    "        ticker = input(\"\\nEnter ticker symbol (or type 'done' to finish): \").strip()\n",
    "        if ticker.lower() == 'done':\n",
    "            break\n",
    "        instrument_type = input(\"Instrument Type (Stock, ETF, Bond, etc.): \").strip()\n",
    "        sector = input(\"Sector (e.g., Technology, Healthcare): \").strip()\n",
    "        region = input(\"Region (US, Europe, Asia-Pacific, etc.): \").strip()\n",
    "        \n",
    "        while True:\n",
    "            try:\n",
    "                allocation = float(input(\"Allocation percentage (0-100): \").strip())\n",
    "                break\n",
    "            except ValueError:\n",
    "                print(\"Please enter a valid number.\")\n",
    "        \n",
    "        currency = input(\"Currency (USD or TWD): \").strip().upper()\n",
    "\n",
    "        instruments.append({\n",
    "            \"Ticker\": ticker,\n",
    "            \"Instrument Type\": instrument_type,\n",
    "            \"Sector\": sector,\n",
    "            \"Region\": region,\n",
    "            \"Allocation (%)\": allocation,\n",
    "            \"Currency\": currency,\n",
    "            \"Conversion Rate (to TWD)\": None\n",
    "        })\n",
    "\n",
    "    df = pd.DataFrame(instruments)\n",
    "    print(f\"Successfully added {len(df)} instruments manually.\")\n",
    "\n",
    "else:\n",
    "    print(\"Invalid selection. Please run the program again and select 1 or 2.\")"
   ]
  },
  {
   "cell_type": "code",
   "execution_count": 22,
   "id": "f9937b08",
   "metadata": {},
   "outputs": [
    {
     "name": "stdout",
     "output_type": "stream",
     "text": [
      "Successfully fetched USD to TWD rate: 29.997259\n"
     ]
    }
   ],
   "source": [
    "# Option 1: Use a direct API call with requests\n",
    "def get_exchange_rate(from_currency, to_currency):\n",
    "    import requests\n",
    "    try:\n",
    "        # Using a free currency API (there are many alternatives)\n",
    "        url = f\"https://open.er-api.com/v6/latest/{from_currency}\"\n",
    "        response = requests.get(url)\n",
    "        data = response.json()\n",
    "        \n",
    "        if 'rates' in data and to_currency in data['rates']:\n",
    "            return data['rates'][to_currency]\n",
    "        else:\n",
    "            # Default fallback value if needed\n",
    "            print(f\"Couldn't find conversion rate for {from_currency} to {to_currency}\")\n",
    "            return None\n",
    "    except Exception as e:\n",
    "        print(f\"Exchange rate API error: {e}\")\n",
    "        return None\n",
    "\n",
    "# Option 2: Use hardcoded rates for common pairs if API is unreliable\n",
    "def get_hardcoded_rate(from_currency, to_currency):\n",
    "    # Example hardcoded rates (update with current rates as needed)\n",
    "    rates = {\n",
    "        \"USD_TWD\": 31.23,  # Update this with a recent USD to TWD rate\n",
    "        \"TWD_USD\": 0.032,  # Update this with a recent TWD to USD rate\n",
    "        # Add other currency pairs as needed\n",
    "    }\n",
    "    \n",
    "    pair_key = f\"{from_currency}_{to_currency}\"\n",
    "    if pair_key in rates:\n",
    "        return rates[pair_key]\n",
    "    else:\n",
    "        print(f\"No hardcoded rate for {pair_key}\")\n",
    "        return None\n",
    "\n",
    "# Replace the currency conversion section in your code with:\n",
    "if not df.empty:\n",
    "    # First try the API method\n",
    "    usd_to_twd = get_exchange_rate('USD', 'TWD')\n",
    "    \n",
    "    # If API failed, fall back to hardcoded rate\n",
    "    if usd_to_twd is None:\n",
    "        usd_to_twd = get_hardcoded_rate('USD', 'TWD')\n",
    "        print(f\"Using hardcoded USD to TWD rate: {usd_to_twd}\")\n",
    "    else:\n",
    "        print(f\"Successfully fetched USD to TWD rate: {usd_to_twd}\")\n",
    "    \n",
    "    # Apply the rate to the dataframe\n",
    "    if usd_to_twd is not None:\n",
    "        df.loc[df['Currency'] == 'USD', 'Conversion Rate (to TWD)'] = usd_to_twd\n",
    "        df.loc[df['Currency'] == 'TWD', 'Conversion Rate (to TWD)'] = 1.0\n",
    "    else:\n",
    "        # Last resort fallback - use 1.0 for everything\n",
    "        print(\"Warning: Using fallback conversion rate of 1.0\")\n",
    "        df['Conversion Rate (to TWD)'] = df['Conversion Rate (to TWD)'].fillna(1.0)\n",
    "else:\n",
    "    print(\"No data to process. Please run the program again and add instruments.\")"
   ]
  },
  {
   "cell_type": "code",
   "execution_count": 23,
   "id": "75f92cce",
   "metadata": {},
   "outputs": [
    {
     "name": "stdout",
     "output_type": "stream",
     "text": [
      "Failed to fetch data for AAPL: Too Many Requests. Rate limited. Try after a while.\n",
      "Failed to fetch data for MSFT: Too Many Requests. Rate limited. Try after a while.\n",
      "Failed to fetch data for TSLA: Too Many Requests. Rate limited. Try after a while.\n",
      "Failed to fetch data for 2330.TW: Too Many Requests. Rate limited. Try after a while.\n",
      "Failed to fetch data for GOOGL: Too Many Requests. Rate limited. Try after a while.\n",
      "Failed to fetch data for JPM: Too Many Requests. Rate limited. Try after a while.\n",
      "Failed to fetch data for JNJ: Too Many Requests. Rate limited. Try after a while.\n",
      "Failed to fetch data for VNQ: Too Many Requests. Rate limited. Try after a while.\n"
     ]
    }
   ],
   "source": [
    "price_data = {}\n",
    "for ticker in df['Ticker']:\n",
    "    try:\n",
    "        stock = yf.Ticker(ticker)\n",
    "        hist_daily = stock.history(period=\"1y\", interval=\"1d\")\n",
    "        hist_weekly = stock.history(period=\"5y\", interval=\"1wk\")\n",
    "        price_data[ticker] = {\"1y_daily\": hist_daily, \"5y_weekly\": hist_weekly}\n",
    "        print(f\"Downloaded data for {ticker}\")\n",
    "    except Exception as e:\n",
    "        print(f\"Failed to fetch data for {ticker}: {e}\")"
   ]
  },
  {
   "cell_type": "code",
   "execution_count": 24,
   "id": "fdbeb4f2",
   "metadata": {},
   "outputs": [
    {
     "name": "stdout",
     "output_type": "stream",
     "text": [
      "Skipping AAPL due to missing data.\n",
      "Skipping MSFT due to missing data.\n",
      "Skipping TSLA due to missing data.\n",
      "Skipping 2330.TW due to missing data.\n",
      "Skipping GOOGL due to missing data.\n",
      "Skipping JPM due to missing data.\n",
      "Skipping JNJ due to missing data.\n",
      "Skipping VNQ due to missing data.\n"
     ]
    }
   ],
   "source": [
    "# Plot price + moving averages for all tickers\n",
    "for ticker in df['Ticker']:\n",
    "    if ticker not in price_data:\n",
    "        print(f\"Skipping {ticker} due to missing data.\")\n",
    "        continue\n",
    "    \n",
    "    data = price_data[ticker]['1y_daily']\n",
    "    data['MA50'] = data['Close'].rolling(window=50).mean()\n",
    "    data['MA200'] = data['Close'].rolling(window=200).mean()\n",
    "    \n",
    "    plt.figure(figsize=(12, 6))\n",
    "    plt.plot(data['Close'], label='Close Price')\n",
    "    plt.plot(data['MA50'], label='50-day MA')\n",
    "    plt.plot(data['MA200'], label='200-day MA')\n",
    "    plt.title(f\"{ticker} - 1Y Daily Price with Moving Averages\")\n",
    "    plt.xlabel(\"Date\")\n",
    "    plt.ylabel(\"Price (USD)\")\n",
    "    plt.legend()\n",
    "    plt.grid(True)\n",
    "    plt.tight_layout()\n",
    "    plt.show()"
   ]
  }
 ],
 "metadata": {
  "kernelspec": {
   "display_name": "Python 3",
   "language": "python",
   "name": "python3"
  },
  "language_info": {
   "codemirror_mode": {
    "name": "ipython",
    "version": 3
   },
   "file_extension": ".py",
   "mimetype": "text/x-python",
   "name": "python",
   "nbconvert_exporter": "python",
   "pygments_lexer": "ipython3",
   "version": "3.12.1"
  }
 },
 "nbformat": 4,
 "nbformat_minor": 5
}
