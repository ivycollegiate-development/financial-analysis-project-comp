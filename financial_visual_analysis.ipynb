{
 "cells": [
  {
   "cell_type": "code",
   "execution_count": 4,
   "id": "6c602546",
   "metadata": {},
   "outputs": [],
   "source": [
    "import pandas as pd\n",
    "import yfinance as yf\n",
    "import matplotlib.pyplot as plt\n",
    "import seaborn as sns\n",
    "from forex_python.converter import CurrencyRates\n",
    "from datetime import datetime"
   ]
  },
  {
   "cell_type": "code",
   "execution_count": 5,
   "id": "5c225374",
   "metadata": {},
   "outputs": [
    {
     "name": "stdout",
     "output_type": "stream",
     "text": [
      "Welcome to the Financial Instrument Visual Evaluator.\n",
      "You’ll be prompted to enter tickers, instrument types, sectors, and other data.\n",
      "We'll collect price and fundamental data and generate charts for evaluation.\n"
     ]
    }
   ],
   "source": [
    "print(\"Welcome to the Financial Instrument Visual Evaluator.\")\n",
    "print(\"You’ll be prompted to enter tickers, instrument types, sectors, and other data.\")\n",
    "print(\"We'll collect price and fundamental data and generate charts for evaluation.\")"
   ]
  },
  {
   "cell_type": "code",
   "execution_count": null,
   "id": "9859fdb8",
   "metadata": {},
   "outputs": [],
   "source": [
    "# Data Input Method Selection\n",
    "input_method = input(\"Select input method (1 for CSV, 2 for manual entry): \").strip()\n",
    "\n",
    "df = pd.DataFrame(columns=[\"Ticker\", \"Instrument Type\", \"Sector\", \"Region\", \n",
    "                          \"Allocation (%)\", \"Currency\", \"Conversion Rate (to TWD)\"])\n",
    "\n",
    "# Option 1: Load from CSV\n",
    "if input_method == \"1\":\n",
    "    csv_file = input(\"Enter CSV filename (default: Instrument_Allocation_Template.csv): \").strip()\n",
    "    if not csv_file:\n",
    "        csv_file = \"Instrument_Allocation_Template.csv\"\n",
    "    \n",
    "    # Check if the CSV file exists\n",
    "    if not os.path.isfile(csv_file):\n",
    "        print(f\"Error: The file '{csv_file}' does not exist.\")\n",
    "        print(\"Please create this file with the following columns:\")\n",
    "        print(\"Ticker, Instrument Type, Sector, Region, Allocation (%), Currency, Conversion Rate (to TWD)\")\n",
    "        print(\"Example:\")\n",
    "        print(\"AAPL,Stock,Technology,US,20,USD,\")\n",
    "        print(\"2330.TW,Stock,Technology,Taiwan,30,TWD,\")\n",
    "    else:\n",
    "        try:\n",
    "            # Read the CSV file\n",
    "            df = pd.read_csv(csv_file)\n",
    "            print(f\"Successfully loaded {len(df)} instruments from {csv_file}\")\n",
    "            \n",
    "            # Validate required columns\n",
    "            required_columns = [\"Ticker\", \"Instrument Type\", \"Sector\", \"Region\", \n",
    "                               \"Allocation (%)\", \"Currency\"]\n",
    "            missing_columns = [col for col in required_columns if col not in df.columns]\n",
    "            \n",
    "            if missing_columns:\n",
    "                print(f\"Warning: The following required columns are missing: {missing_columns}\")\n",
    "                print(\"Please update your CSV file with the correct column headers.\")\n",
    "        except Exception as e:\n",
    "            print(f\"Error loading CSV file: {e}\")\n",
    "\n",
    "# Option 2: Manual Entry\n",
    "elif input_method == \"2\":\n",
    "    instruments = []\n",
    "    print(\"\\nEnter information for each instrument:\")\n",
    "    print(\"(Enter 'done' for ticker when finished)\")\n",
    "    \n",
    "    while True:\n",
    "        ticker = input(\"\\nEnter ticker symbol (or type 'done' to finish): \").strip()\n",
    "        if ticker.lower() == 'done':\n",
    "            break\n",
    "        instrument_type = input(\"Instrument Type (Stock, ETF, Bond, etc.): \").strip()\n",
    "        sector = input(\"Sector (e.g., Technology, Healthcare): \").strip()\n",
    "        region = input(\"Region (US, Europe, Asia-Pacific, etc.): \").strip()\n",
    "        \n",
    "        while True:\n",
    "            try:\n",
    "                allocation = float(input(\"Allocation percentage (0-100): \").strip())\n",
    "                break\n",
    "            except ValueError:\n",
    "                print(\"Please enter a valid number.\")\n",
    "        \n",
    "        currency = input(\"Currency (USD or TWD): \").strip().upper()\n",
    "\n",
    "        instruments.append({\n",
    "            \"Ticker\": ticker,\n",
    "            \"Instrument Type\": instrument_type,\n",
    "            \"Sector\": sector,\n",
    "            \"Region\": region,\n",
    "            \"Allocation (%)\": allocation,\n",
    "            \"Currency\": currency,\n",
    "            \"Conversion Rate (to TWD)\": None\n",
    "        })\n",
    "\n",
    "    df = pd.DataFrame(instruments)\n",
    "    print(f\"Successfully added {len(df)} instruments manually.\")\n",
    "\n",
    "else:\n",
    "    print(\"Invalid selection. Please run the program again and select 1 or 2.\")\n"
   ]
  },
  {
   "cell_type": "code",
   "execution_count": 4,
   "id": "15ab3719",
   "metadata": {},
   "outputs": [
    {
     "name": "stdout",
     "output_type": "stream",
     "text": [
      "Currency conversion failed: Expecting value: line 1 column 1 (char 0)\n"
     ]
    }
   ],
   "source": [
    "c = CurrencyRates()\n",
    "try:\n",
    "    usd_to_twd = c.get_rate('USD', 'TWD')\n",
    "    df.loc[df['Currency'] == 'USD', 'Conversion Rate (to TWD)'] = usd_to_twd\n",
    "    df.loc[df['Currency'] == 'TWD', 'Conversion Rate (to TWD)'] = 1.0\n",
    "    print(f\"USD to TWD rate: {usd_to_twd}\")\n",
    "except Exception as e:\n",
    "    print(f\"Currency conversion failed: {e}\")\n",
    "    df['Conversion Rate (to TWD)'] = 1.0  # fallback\n"
   ]
  },
  {
   "cell_type": "code",
   "execution_count": 3,
   "id": "10eb4c12",
   "metadata": {},
   "outputs": [
    {
     "ename": "NameError",
     "evalue": "name 'df' is not defined",
     "output_type": "error",
     "traceback": [
      "\u001b[31m---------------------------------------------------------------------------\u001b[39m",
      "\u001b[31mNameError\u001b[39m                                 Traceback (most recent call last)",
      "\u001b[36mCell\u001b[39m\u001b[36m \u001b[39m\u001b[32mIn[3]\u001b[39m\u001b[32m, line 2\u001b[39m\n\u001b[32m      1\u001b[39m price_data = {}\n\u001b[32m----> \u001b[39m\u001b[32m2\u001b[39m \u001b[38;5;28;01mfor\u001b[39;00m ticker \u001b[38;5;129;01min\u001b[39;00m \u001b[43mdf\u001b[49m[\u001b[33m'\u001b[39m\u001b[33mTicker\u001b[39m\u001b[33m'\u001b[39m]:\n\u001b[32m      3\u001b[39m     \u001b[38;5;28;01mtry\u001b[39;00m:\n\u001b[32m      4\u001b[39m         stock = yf.Ticker(ticker)\n",
      "\u001b[31mNameError\u001b[39m: name 'df' is not defined"
     ]
    }
   ],
   "source": [
    "price_data = {}\n",
    "for ticker in df['Ticker']:\n",
    "    try:\n",
    "        stock = yf.Ticker(ticker)\n",
    "        hist_daily = stock.history(period=\"1y\", interval=\"1d\")\n",
    "        hist_weekly = stock.history(period=\"5y\", interval=\"1wk\")\n",
    "        price_data[ticker] = {\"1y_daily\": hist_daily, \"5y_weekly\": hist_weekly}\n",
    "        print(f\"Downloaded data for {ticker}\")\n",
    "    except Exception as e:\n",
    "        print(f\"Failed to fetch data for {ticker}: {e}\")\n"
   ]
  },
  {
   "cell_type": "code",
   "execution_count": null,
   "id": "ba7215bc",
   "metadata": {},
   "outputs": [
    {
     "ename": "NameError",
     "evalue": "name 'df' is not defined",
     "output_type": "error",
     "traceback": [
      "\u001b[31m---------------------------------------------------------------------------\u001b[39m",
      "\u001b[31mNameError\u001b[39m                                 Traceback (most recent call last)",
      "\u001b[36mCell\u001b[39m\u001b[36m \u001b[39m\u001b[32mIn[2]\u001b[39m\u001b[32m, line 2\u001b[39m\n\u001b[32m      1\u001b[39m \u001b[38;5;66;03m# Plot price + moving averages for all tickers\u001b[39;00m\n\u001b[32m----> \u001b[39m\u001b[32m2\u001b[39m \u001b[38;5;28;01mfor\u001b[39;00m ticker \u001b[38;5;129;01min\u001b[39;00m \u001b[43mdf\u001b[49m[\u001b[33m'\u001b[39m\u001b[33mTicker\u001b[39m\u001b[33m'\u001b[39m]:\n\u001b[32m      3\u001b[39m     \u001b[38;5;28;01mif\u001b[39;00m ticker \u001b[38;5;129;01mnot\u001b[39;00m \u001b[38;5;129;01min\u001b[39;00m price_data:\n\u001b[32m      4\u001b[39m         \u001b[38;5;28mprint\u001b[39m(\u001b[33mf\u001b[39m\u001b[33m\"\u001b[39m\u001b[33mSkipping \u001b[39m\u001b[38;5;132;01m{\u001b[39;00mticker\u001b[38;5;132;01m}\u001b[39;00m\u001b[33m due to missing data.\u001b[39m\u001b[33m\"\u001b[39m)\n",
      "\u001b[31mNameError\u001b[39m: name 'df' is not defined"
     ]
    }
   ],
   "source": [
    "# Plot price + moving averages for all tickers\n",
    "for ticker in df['Ticker']:\n",
    "    if ticker not in price_data:\n",
    "        print(f\"Skipping {ticker} due to missing data.\")\n",
    "        continue\n",
    "    \n",
    "    data = price_data[ticker]['1y_daily']\n",
    "    data['MA50'] = data['Close'].rolling(window=50).mean()\n",
    "    data['MA200'] = data['Close'].rolling(window=200).mean()\n",
    "    \n",
    "    plt.figure(figsize=(12, 6))\n",
    "    plt.plot(data['Close'], label='Close Price')\n",
    "    plt.plot(data['MA50'], label='50-day MA')\n",
    "    plt.plot(data['MA200'], label='200-day MA')\n",
    "    plt.title(f\"{ticker} - 1Y Daily Price with Moving Averages\")\n",
    "    plt.xlabel(\"Date\")\n",
    "    plt.ylabel(\"Price (USD)\")\n",
    "    plt.legend()\n",
    "    plt.grid(True)\n",
    "    plt.tight_layout()\n",
    "    plt.show()"
   ]
  },
  {
   "cell_type": "code",
   "execution_count": null,
   "id": "bb65a8cf",
   "metadata": {},
   "outputs": [
    {
     "ename": "NameError",
     "evalue": "name 'plt' is not defined",
     "output_type": "error",
     "traceback": [
      "\u001b[31m---------------------------------------------------------------------------\u001b[39m",
      "\u001b[31mNameError\u001b[39m                                 Traceback (most recent call last)",
      "\u001b[36mCell\u001b[39m\u001b[36m \u001b[39m\u001b[32mIn[1]\u001b[39m\u001b[32m, line 7\u001b[39m\n\u001b[32m      1\u001b[39m \u001b[38;5;66;03m# name this file: sector_and_region_allocation_charts.ipynb\u001b[39;00m\n\u001b[32m      2\u001b[39m \u001b[38;5;66;03m# Copy and paste this into a Jupyter Notebook\u001b[39;00m\n\u001b[32m      3\u001b[39m \u001b[38;5;66;03m# Run each cell sequentially.\u001b[39;00m\n\u001b[32m      4\u001b[39m \n\u001b[32m      5\u001b[39m \n\u001b[32m      6\u001b[39m \u001b[38;5;66;03m# Cell 9: Sector Allocation Pie Chart\u001b[39;00m\n\u001b[32m----> \u001b[39m\u001b[32m7\u001b[39m \u001b[43mplt\u001b[49m.figure(figsize=(\u001b[32m8\u001b[39m, \u001b[32m6\u001b[39m))\n\u001b[32m      8\u001b[39m sector_data = df.groupby(\u001b[33m'\u001b[39m\u001b[33mSector\u001b[39m\u001b[33m'\u001b[39m)[\u001b[33m'\u001b[39m\u001b[33mAllocation (\u001b[39m\u001b[33m%\u001b[39m\u001b[33m)\u001b[39m\u001b[33m'\u001b[39m].sum()\n\u001b[32m      9\u001b[39m sector_data.plot(kind=\u001b[33m'\u001b[39m\u001b[33mpie\u001b[39m\u001b[33m'\u001b[39m, autopct=\u001b[33m'\u001b[39m\u001b[38;5;132;01m%1.1f\u001b[39;00m\u001b[38;5;132;01m%%\u001b[39;00m\u001b[33m'\u001b[39m, startangle=\u001b[32m140\u001b[39m)\n",
      "\u001b[31mNameError\u001b[39m: name 'plt' is not defined"
     ]
    }
   ],
   "source": [
    "# name this file: sector_and_region_allocation_charts.ipynb\n",
    "# Copy and paste this into a Jupyter Notebook\n",
    "# Run each cell sequentially.\n",
    "\n",
    "\n",
    "# Cell 9: Sector Allocation Pie Chart\n",
    "plt.figure(figsize=(8, 6))\n",
    "sector_data = df.groupby('Sector')['Allocation (%)'].sum()\n",
    "sector_data.plot(kind='pie', autopct='%1.1f%%', startangle=140)\n",
    "plt.title(\"Portfolio Allocation by Sector\")\n",
    "plt.ylabel(\"\")  # Hides y-label\n",
    "plt.tight_layout()\n",
    "plt.show()\n",
    "\n",
    "# Cell 10: Region Allocation Pie Chart\n",
    "plt.figure(figsize=(8, 6))\n",
    "region_data = df.groupby('Region')['Allocation (%)'].sum()\n",
    "region_data.plot(kind='pie', autopct='%1.1f%%', startangle=140)\n",
    "plt.title(\"Portfolio Allocation by Region\")\n",
    "plt.ylabel(\"\")  # Hides y-label\n",
    "plt.tight_layout()\n",
    "plt.show()\n"
   ]
  }
 ],
 "metadata": {
  "kernelspec": {
   "display_name": "Python 3",
   "language": "python",
   "name": "python3"
  },
  "language_info": {
   "codemirror_mode": {
    "name": "ipython",
    "version": 3
   },
   "file_extension": ".py",
   "mimetype": "text/x-python",
   "name": "python",
   "nbconvert_exporter": "python",
   "pygments_lexer": "ipython3",
   "version": "3.12.1"
  }
 },
 "nbformat": 4,
 "nbformat_minor": 5
}
