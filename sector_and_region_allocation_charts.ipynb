{
 "cells": [
  {
   "cell_type": "code",
   "execution_count": 2,
   "id": "2559b36e",
   "metadata": {},
   "outputs": [
    {
     "ename": "NameError",
     "evalue": "name 'plt' is not defined",
     "output_type": "error",
     "traceback": [
      "\u001b[31m---------------------------------------------------------------------------\u001b[39m",
      "\u001b[31mNameError\u001b[39m                                 Traceback (most recent call last)",
      "\u001b[36mCell\u001b[39m\u001b[36m \u001b[39m\u001b[32mIn[2]\u001b[39m\u001b[32m, line 1\u001b[39m\n\u001b[32m----> \u001b[39m\u001b[32m1\u001b[39m \u001b[43mplt\u001b[49m.figure(figsize=(\u001b[32m8\u001b[39m, \u001b[32m6\u001b[39m))\n\u001b[32m      2\u001b[39m sector_data = df.groupby(\u001b[33m'\u001b[39m\u001b[33mSector\u001b[39m\u001b[33m'\u001b[39m)[\u001b[33m'\u001b[39m\u001b[33mAllocation (\u001b[39m\u001b[33m%\u001b[39m\u001b[33m)\u001b[39m\u001b[33m'\u001b[39m].sum()\n\u001b[32m      3\u001b[39m sector_data.plot(kind=\u001b[33m'\u001b[39m\u001b[33mpie\u001b[39m\u001b[33m'\u001b[39m, autopct=\u001b[33m'\u001b[39m\u001b[38;5;132;01m%1.1f\u001b[39;00m\u001b[38;5;132;01m%%\u001b[39;00m\u001b[33m'\u001b[39m, startangle=\u001b[32m140\u001b[39m)\n",
      "\u001b[31mNameError\u001b[39m: name 'plt' is not defined"
     ]
    }
   ],
   "source": [
    "plt.figure(figsize=(8, 6))\n",
    "sector_data = df.groupby('Sector')['Allocation (%)'].sum()\n",
    "sector_data.plot(kind='pie', autopct='%1.1f%%', startangle=140)\n",
    "plt.title(\"Portfolio Allocation by Sector\")\n",
    "plt.ylabel(\"\")  # Hides y-label\n",
    "plt.tight_layout()\n",
    "plt.show()"
   ]
  },
  {
   "cell_type": "code",
   "execution_count": null,
   "id": "f89d4c08",
   "metadata": {},
   "outputs": [],
   "source": [
    "plt.figure(figsize=(8, 6))\n",
    "region_data = df.groupby('Region')['Allocation (%)'].sum()\n",
    "region_data.plot(kind='pie', autopct='%1.1f%%', startangle=140)\n",
    "plt.title(\"Portfolio Allocation by Region\")\n",
    "plt.ylabel(\"\")  # Hides y-label\n",
    "plt.tight_layout()\n",
    "plt.show()\n"
   ]
  }
 ],
 "metadata": {
  "kernelspec": {
   "display_name": "Python 3",
   "language": "python",
   "name": "python3"
  },
  "language_info": {
   "codemirror_mode": {
    "name": "ipython",
    "version": 3
   },
   "file_extension": ".py",
   "mimetype": "text/x-python",
   "name": "python",
   "nbconvert_exporter": "python",
   "pygments_lexer": "ipython3",
   "version": "3.12.1"
  }
 },
 "nbformat": 4,
 "nbformat_minor": 5
}
